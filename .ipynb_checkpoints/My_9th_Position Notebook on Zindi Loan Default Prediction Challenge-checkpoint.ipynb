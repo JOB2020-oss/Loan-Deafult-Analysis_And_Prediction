{
 "cells": [
  {
   "cell_type": "markdown",
   "id": "a4a28385",
   "metadata": {},
   "source": [
    "## Problem Statement"
   ]
  },
  {
   "cell_type": "markdown",
   "id": "e904f8d4",
   "metadata": {},
   "source": [
    "The problem aims at developing the best model which can effectively predict if an individual client is eligible to be granted a loan based on the current status and perfomance of the loanee"
   ]
  },
  {
   "cell_type": "markdown",
   "id": "66dc449a",
   "metadata": {},
   "source": [
    "## Loading of Neccesary Libraries"
   ]
  },
  {
   "cell_type": "code",
   "execution_count": 1,
   "id": "7138b7eb",
   "metadata": {},
   "outputs": [],
   "source": [
    "import pandas as pd\n",
    "import numpy as np\n",
    "import warnings\n",
    "warnings.filterwarnings(\"ignore\")\n",
    "from matplotlib import pyplot as plt\n",
    "pd.set_option(\"display.max_columns\",None)\n",
    "pd.set_option(\"display.max_rows\",None)\n",
    "import datetime\n",
    "import seaborn as sns"
   ]
  },
  {
   "cell_type": "markdown",
   "id": "bb10108c",
   "metadata": {},
   "source": [
    "## Loading of Data Sets"
   ]
  },
  {
   "cell_type": "code",
   "execution_count": 22,
   "id": "052cdd96",
   "metadata": {},
   "outputs": [],
   "source": [
    "train_perf = pd.read_csv(\"trainperf.csv\")\n",
    "train_prev = pd.read_csv(\"trainprevloans.csv\")\n",
    "test_prev = pd.read_csv(\"testprevloans.csv\")\n",
    "train_demo = pd.read_csv(\"traindemographics.csv\")\n",
    "test_perf = pd.read_csv(\"testperf.csv\")\n",
    "test_demo = pd.read_csv(\"testdemographics.csv\")"
   ]
  },
  {
   "cell_type": "markdown",
   "id": "415e2e83",
   "metadata": {},
   "source": [
    "Lets combine some datasets files such as demographic,perfomance and previous account of the client loan by use  the pandas merging method"
   ]
  },
  {
   "cell_type": "code",
   "execution_count": 23,
   "id": "d3c3cfd8",
   "metadata": {},
   "outputs": [],
   "source": [
    "merged_train = pd.merge(train_perf,train_prev,how=\"left\")\n",
    "train = pd.merge(merged_train,train_demo,how=\"left\")\n",
    "merged_test = pd.merge(test_perf,test_prev,how=\"left\")\n",
    "test = pd.merge(merged_test,test_demo,how=\"left\")\n",
    "ID = test[\"customerid\"]"
   ]
  },
  {
   "cell_type": "markdown",
   "id": "98107e1a",
   "metadata": {},
   "source": [
    "## Exploratory Data Analysis"
   ]
  },
  {
   "cell_type": "code",
   "execution_count": 24,
   "id": "6783a872",
   "metadata": {},
   "outputs": [
    {
     "data": {
      "text/plain": [
       "((4376, 21), (1450, 20))"
      ]
     },
     "execution_count": 24,
     "metadata": {},
     "output_type": "execute_result"
    }
   ],
   "source": [
    "train.shape,test.shape"
   ]
  },
  {
   "cell_type": "code",
   "execution_count": 25,
   "id": "f50ccbf6",
   "metadata": {},
   "outputs": [
    {
     "name": "stdout",
     "output_type": "stream",
     "text": [
      "<class 'pandas.core.frame.DataFrame'>\n",
      "Int64Index: 4376 entries, 0 to 4375\n",
      "Data columns (total 21 columns):\n",
      " #   Column                      Non-Null Count  Dtype  \n",
      "---  ------                      --------------  -----  \n",
      " 0   customerid                  4376 non-null   object \n",
      " 1   systemloanid                4376 non-null   int64  \n",
      " 2   loannumber                  4376 non-null   int64  \n",
      " 3   approveddate                4376 non-null   object \n",
      " 4   creationdate                4376 non-null   object \n",
      " 5   loanamount                  4376 non-null   float64\n",
      " 6   totaldue                    4376 non-null   float64\n",
      " 7   termdays                    4376 non-null   int64  \n",
      " 8   referredby                  589 non-null    object \n",
      " 9   good_bad_flag               4376 non-null   object \n",
      " 10  closeddate                  0 non-null      object \n",
      " 11  firstduedate                0 non-null      object \n",
      " 12  firstrepaiddate             0 non-null      object \n",
      " 13  birthdate                   3277 non-null   object \n",
      " 14  bank_account_type           3277 non-null   object \n",
      " 15  longitude_gps               3277 non-null   float64\n",
      " 16  latitude_gps                3277 non-null   float64\n",
      " 17  bank_name_clients           3277 non-null   object \n",
      " 18  bank_branch_clients         33 non-null     object \n",
      " 19  employment_status_clients   2784 non-null   object \n",
      " 20  level_of_education_clients  443 non-null    object \n",
      "dtypes: float64(4), int64(3), object(14)\n",
      "memory usage: 752.1+ KB\n"
     ]
    },
    {
     "data": {
      "text/plain": [
       "(None, (4376, 21))"
      ]
     },
     "execution_count": 25,
     "metadata": {},
     "output_type": "execute_result"
    }
   ],
   "source": [
    "train.info(),train.shape"
   ]
  },
  {
   "cell_type": "code",
   "execution_count": 26,
   "id": "554edd3b",
   "metadata": {},
   "outputs": [
    {
     "data": {
      "text/html": [
       "<div>\n",
       "<style scoped>\n",
       "    .dataframe tbody tr th:only-of-type {\n",
       "        vertical-align: middle;\n",
       "    }\n",
       "\n",
       "    .dataframe tbody tr th {\n",
       "        vertical-align: top;\n",
       "    }\n",
       "\n",
       "    .dataframe thead th {\n",
       "        text-align: right;\n",
       "    }\n",
       "</style>\n",
       "<table border=\"1\" class=\"dataframe\">\n",
       "  <thead>\n",
       "    <tr style=\"text-align: right;\">\n",
       "      <th></th>\n",
       "      <th>systemloanid</th>\n",
       "      <th>loannumber</th>\n",
       "      <th>loanamount</th>\n",
       "      <th>totaldue</th>\n",
       "      <th>termdays</th>\n",
       "      <th>longitude_gps</th>\n",
       "      <th>latitude_gps</th>\n",
       "    </tr>\n",
       "  </thead>\n",
       "  <tbody>\n",
       "    <tr>\n",
       "      <th>count</th>\n",
       "      <td>4.376000e+03</td>\n",
       "      <td>4376.000000</td>\n",
       "      <td>4376.000000</td>\n",
       "      <td>4376.000000</td>\n",
       "      <td>4376.000000</td>\n",
       "      <td>3277.000000</td>\n",
       "      <td>3277.000000</td>\n",
       "    </tr>\n",
       "    <tr>\n",
       "      <th>mean</th>\n",
       "      <td>3.019810e+08</td>\n",
       "      <td>5.169333</td>\n",
       "      <td>17803.930530</td>\n",
       "      <td>21252.565288</td>\n",
       "      <td>29.266453</td>\n",
       "      <td>4.534611</td>\n",
       "      <td>7.292799</td>\n",
       "    </tr>\n",
       "    <tr>\n",
       "      <th>std</th>\n",
       "      <td>1.342393e+04</td>\n",
       "      <td>3.652679</td>\n",
       "      <td>10749.041391</td>\n",
       "      <td>11943.706857</td>\n",
       "      <td>11.513424</td>\n",
       "      <td>7.916626</td>\n",
       "      <td>3.268758</td>\n",
       "    </tr>\n",
       "    <tr>\n",
       "      <th>min</th>\n",
       "      <td>3.019585e+08</td>\n",
       "      <td>2.000000</td>\n",
       "      <td>10000.000000</td>\n",
       "      <td>10000.000000</td>\n",
       "      <td>15.000000</td>\n",
       "      <td>-118.247009</td>\n",
       "      <td>-33.868818</td>\n",
       "    </tr>\n",
       "    <tr>\n",
       "      <th>25%</th>\n",
       "      <td>3.019691e+08</td>\n",
       "      <td>2.000000</td>\n",
       "      <td>10000.000000</td>\n",
       "      <td>13000.000000</td>\n",
       "      <td>30.000000</td>\n",
       "      <td>3.354984</td>\n",
       "      <td>6.473645</td>\n",
       "    </tr>\n",
       "    <tr>\n",
       "      <th>50%</th>\n",
       "      <td>3.019801e+08</td>\n",
       "      <td>4.000000</td>\n",
       "      <td>10000.000000</td>\n",
       "      <td>13000.000000</td>\n",
       "      <td>30.000000</td>\n",
       "      <td>3.587546</td>\n",
       "      <td>6.625954</td>\n",
       "    </tr>\n",
       "    <tr>\n",
       "      <th>75%</th>\n",
       "      <td>3.019935e+08</td>\n",
       "      <td>7.000000</td>\n",
       "      <td>20000.000000</td>\n",
       "      <td>24500.000000</td>\n",
       "      <td>30.000000</td>\n",
       "      <td>6.478157</td>\n",
       "      <td>7.429882</td>\n",
       "    </tr>\n",
       "    <tr>\n",
       "      <th>max</th>\n",
       "      <td>3.020040e+08</td>\n",
       "      <td>27.000000</td>\n",
       "      <td>60000.000000</td>\n",
       "      <td>68100.000000</td>\n",
       "      <td>90.000000</td>\n",
       "      <td>151.209290</td>\n",
       "      <td>71.228069</td>\n",
       "    </tr>\n",
       "  </tbody>\n",
       "</table>\n",
       "</div>"
      ],
      "text/plain": [
       "       systemloanid   loannumber    loanamount      totaldue     termdays  \\\n",
       "count  4.376000e+03  4376.000000   4376.000000   4376.000000  4376.000000   \n",
       "mean   3.019810e+08     5.169333  17803.930530  21252.565288    29.266453   \n",
       "std    1.342393e+04     3.652679  10749.041391  11943.706857    11.513424   \n",
       "min    3.019585e+08     2.000000  10000.000000  10000.000000    15.000000   \n",
       "25%    3.019691e+08     2.000000  10000.000000  13000.000000    30.000000   \n",
       "50%    3.019801e+08     4.000000  10000.000000  13000.000000    30.000000   \n",
       "75%    3.019935e+08     7.000000  20000.000000  24500.000000    30.000000   \n",
       "max    3.020040e+08    27.000000  60000.000000  68100.000000    90.000000   \n",
       "\n",
       "       longitude_gps  latitude_gps  \n",
       "count    3277.000000   3277.000000  \n",
       "mean        4.534611      7.292799  \n",
       "std         7.916626      3.268758  \n",
       "min      -118.247009    -33.868818  \n",
       "25%         3.354984      6.473645  \n",
       "50%         3.587546      6.625954  \n",
       "75%         6.478157      7.429882  \n",
       "max       151.209290     71.228069  "
      ]
     },
     "execution_count": 26,
     "metadata": {},
     "output_type": "execute_result"
    }
   ],
   "source": [
    "train.describe()"
   ]
  },
  {
   "cell_type": "code",
   "execution_count": 27,
   "id": "3040a5c5",
   "metadata": {},
   "outputs": [],
   "source": [
    "col = [\"closeddate\",\"birthdate\",\"firstduedate\",\"firstrepaiddate\",\"referredby\",\"customerid\",\"approveddate\",\"creationdate\"]\n",
    "df = train.drop(col,axis=1)#sorting some variables for better visualization but inplace later"
   ]
  },
  {
   "cell_type": "code",
   "execution_count": 18,
   "id": "ba7ad409",
   "metadata": {},
   "outputs": [],
   "source": [
    "col_o = [\"good_bad_flag\",\"bank_account_type\",\"bank_name_clients\",\"bank_branch_clients\",\"employment_status_clients\",\"level_of_education_clients\"]\n",
    "df_o = train[col_o]\n",
    "num1 = df.select_dtypes(include=\"int\")\n",
    "num2 = df.select_dtypes(include=\"float\")\n",
    "num = pd.concat([num1,num2],join=\"inner\",axis=1)#Selecting list of numerical variables\n",
    "num = num.astype(float)"
   ]
  },
  {
   "cell_type": "markdown",
   "id": "41948f8a",
   "metadata": {},
   "source": [
    "Lets try to check on the distribution of the loan with respect to status of the loanee whether is of good status or bad status"
   ]
  },
  {
   "cell_type": "code",
   "execution_count": 19,
   "id": "90f8666a",
   "metadata": {},
   "outputs": [
    {
     "data": {
      "image/png": "[encoded data removed]",
      "text/plain": [
       "<Figure size 360x360 with 1 Axes>"
      ]
     },
     "metadata": {
      "needs_background": "light"
     },
     "output_type": "display_data"
    }
   ],
   "source": [
    "fig = sns.FacetGrid(data=train,hue='good_bad_flag',palette='Set1',size=5)\n",
    "fig.map(plt.hist,'loanamount')\n",
    "plt.legend()\n",
    "plt.show()"
   ]
  },
  {
   "cell_type": "code",
   "execution_count": 21,
   "id": "f7e90ee5",
   "metadata": {},
   "outputs": [
    {
     "data": {
      "image/png": "[encoded data removed]",
      "text/plain": [
       "<Figure size 360x360 with 1 Axes>"
      ]
     },
     "metadata": {
      "needs_background": "light"
     },
     "output_type": "display_data"
    }
   ],
   "source": [
    "fig = sns.FacetGrid(data=train,hue='good_bad_flag',palette='Set1',height=5)\n",
    "fig.map(plt.hist,'totaldue')\n",
    "plt.legend()\n",
    "plt.show()"
   ]
  },
  {
   "cell_type": "code",
   "execution_count": 4,
   "id": "89982bc9",
   "metadata": {},
   "outputs": [
    {
     "ename": "NameError",
     "evalue": "name 'train' is not defined",
     "output_type": "error",
     "traceback": [
      "\u001b[1;31m---------------------------------------------------------------------------\u001b[0m",
      "\u001b[1;31mNameError\u001b[0m                                 Traceback (most recent call last)",
      "\u001b[1;32m~\\AppData\\Local\\Temp\\ipykernel_6060\\3182568757.py\u001b[0m in \u001b[0;36m<module>\u001b[1;34m\u001b[0m\n\u001b[1;32m----> 1\u001b[1;33m \u001b[0mfig\u001b[0m \u001b[1;33m=\u001b[0m \u001b[0msns\u001b[0m\u001b[1;33m.\u001b[0m\u001b[0mFacetGrid\u001b[0m\u001b[1;33m(\u001b[0m\u001b[0mdata\u001b[0m\u001b[1;33m=\u001b[0m\u001b[0mtrain\u001b[0m\u001b[1;33m,\u001b[0m\u001b[0mhue\u001b[0m\u001b[1;33m=\u001b[0m\u001b[1;34m'good_bad_flag'\u001b[0m\u001b[1;33m,\u001b[0m\u001b[0mpalette\u001b[0m\u001b[1;33m=\u001b[0m\u001b[1;34m'Set1'\u001b[0m\u001b[1;33m,\u001b[0m\u001b[0msize\u001b[0m\u001b[1;33m=\u001b[0m\u001b[1;36m5\u001b[0m\u001b[1;33m)\u001b[0m\u001b[1;33m\u001b[0m\u001b[1;33m\u001b[0m\u001b[0m\n\u001b[0m\u001b[0;32m      2\u001b[0m \u001b[0mfig\u001b[0m\u001b[1;33m.\u001b[0m\u001b[0mmap\u001b[0m\u001b[1;33m(\u001b[0m\u001b[0mplt\u001b[0m\u001b[1;33m.\u001b[0m\u001b[0mhist\u001b[0m\u001b[1;33m,\u001b[0m\u001b[1;34m'loannumber'\u001b[0m\u001b[1;33m)\u001b[0m\u001b[1;33m\u001b[0m\u001b[1;33m\u001b[0m\u001b[0m\n\u001b[0;32m      3\u001b[0m \u001b[0mplt\u001b[0m\u001b[1;33m.\u001b[0m\u001b[0mlegend\u001b[0m\u001b[1;33m(\u001b[0m\u001b[1;33m)\u001b[0m\u001b[1;33m\u001b[0m\u001b[1;33m\u001b[0m\u001b[0m\n\u001b[0;32m      4\u001b[0m \u001b[0mplt\u001b[0m\u001b[1;33m.\u001b[0m\u001b[0mshow\u001b[0m\u001b[1;33m(\u001b[0m\u001b[1;33m)\u001b[0m\u001b[1;33m\u001b[0m\u001b[1;33m\u001b[0m\u001b[0m\n",
      "\u001b[1;31mNameError\u001b[0m: name 'train' is not defined"
     ]
    }
   ],
   "source": [
    "fig = sns.FacetGrid(data=train,hue='good_bad_flag',palette='Set1',size=5)\n",
    "fig.map(plt.hist,'loannumber')\n",
    "plt.legend()\n",
    "plt.show()"
   ]
  },
  {
   "cell_type": "markdown",
   "id": "d93d9bbb",
   "metadata": {},
   "source": [
    "Lets plot a scatterplot for target variable with respect to features"
   ]
  },
  {
   "cell_type": "code",
   "execution_count": 5,
   "id": "3cefdbb3",
   "metadata": {},
   "outputs": [
    {
     "ename": "NameError",
     "evalue": "name 'num' is not defined",
     "output_type": "error",
     "traceback": [
      "\u001b[1;31m---------------------------------------------------------------------------\u001b[0m",
      "\u001b[1;31mNameError\u001b[0m                                 Traceback (most recent call last)",
      "\u001b[1;32m~\\AppData\\Local\\Temp\\ipykernel_6060\\210273086.py\u001b[0m in \u001b[0;36m<module>\u001b[1;34m\u001b[0m\n\u001b[0;32m      7\u001b[0m         \u001b[0mcounter\u001b[0m \u001b[1;33m=\u001b[0m \u001b[0mcounter\u001b[0m \u001b[1;33m+\u001b[0m \u001b[1;36m1\u001b[0m\u001b[1;33m\u001b[0m\u001b[1;33m\u001b[0m\u001b[0m\n\u001b[0;32m      8\u001b[0m     \u001b[0mplt\u001b[0m\u001b[1;33m.\u001b[0m\u001b[0mshow\u001b[0m\u001b[1;33m(\u001b[0m\u001b[1;33m)\u001b[0m\u001b[1;33m\u001b[0m\u001b[1;33m\u001b[0m\u001b[0m\n\u001b[1;32m----> 9\u001b[1;33m \u001b[0mscatterplot\u001b[0m\u001b[1;33m(\u001b[0m\u001b[1;33m)\u001b[0m\u001b[1;33m\u001b[0m\u001b[1;33m\u001b[0m\u001b[0m\n\u001b[0m",
      "\u001b[1;32m~\\AppData\\Local\\Temp\\ipykernel_6060\\210273086.py\u001b[0m in \u001b[0;36mscatterplot\u001b[1;34m()\u001b[0m\n\u001b[0;32m      2\u001b[0m     \u001b[0mcounter\u001b[0m \u001b[1;33m=\u001b[0m \u001b[1;36m1\u001b[0m\u001b[1;33m\u001b[0m\u001b[1;33m\u001b[0m\u001b[0m\n\u001b[0;32m      3\u001b[0m     \u001b[0mplt\u001b[0m\u001b[1;33m.\u001b[0m\u001b[0mfigure\u001b[0m\u001b[1;33m(\u001b[0m\u001b[0mfigsize\u001b[0m\u001b[1;33m=\u001b[0m\u001b[1;33m(\u001b[0m\u001b[1;36m15\u001b[0m\u001b[1;33m,\u001b[0m\u001b[1;36m15\u001b[0m\u001b[1;33m)\u001b[0m\u001b[1;33m)\u001b[0m\u001b[1;33m\u001b[0m\u001b[1;33m\u001b[0m\u001b[0m\n\u001b[1;32m----> 4\u001b[1;33m     \u001b[1;32mfor\u001b[0m \u001b[0mi\u001b[0m \u001b[1;32min\u001b[0m \u001b[0mnum\u001b[0m\u001b[1;33m:\u001b[0m\u001b[1;33m\u001b[0m\u001b[1;33m\u001b[0m\u001b[0m\n\u001b[0m\u001b[0;32m      5\u001b[0m         \u001b[0mplt\u001b[0m\u001b[1;33m.\u001b[0m\u001b[0msubplot\u001b[0m\u001b[1;33m(\u001b[0m\u001b[1;36m4\u001b[0m\u001b[1;33m,\u001b[0m\u001b[1;36m2\u001b[0m\u001b[1;33m,\u001b[0m\u001b[0mcounter\u001b[0m\u001b[1;33m)\u001b[0m\u001b[1;33m\u001b[0m\u001b[1;33m\u001b[0m\u001b[0m\n\u001b[0;32m      6\u001b[0m         \u001b[0msns\u001b[0m\u001b[1;33m.\u001b[0m\u001b[0mscatterplot\u001b[0m\u001b[1;33m(\u001b[0m\u001b[0mx\u001b[0m\u001b[1;33m=\u001b[0m\u001b[0mnum\u001b[0m\u001b[1;33m[\u001b[0m\u001b[1;34m\"loanamount\"\u001b[0m\u001b[1;33m]\u001b[0m\u001b[1;33m,\u001b[0m\u001b[0my\u001b[0m\u001b[1;33m=\u001b[0m\u001b[0mnum\u001b[0m\u001b[1;33m[\u001b[0m\u001b[0mi\u001b[0m\u001b[1;33m]\u001b[0m\u001b[1;33m,\u001b[0m\u001b[0mhue\u001b[0m\u001b[1;33m=\u001b[0m\u001b[0mdf_o\u001b[0m\u001b[1;33m[\u001b[0m\u001b[1;34m\"good_bad_flag\"\u001b[0m\u001b[1;33m]\u001b[0m\u001b[1;33m)\u001b[0m\u001b[1;33m\u001b[0m\u001b[1;33m\u001b[0m\u001b[0m\n",
      "\u001b[1;31mNameError\u001b[0m: name 'num' is not defined"
     ]
    },
    {
     "data": {
      "text/plain": [
       "<Figure size 1080x1080 with 0 Axes>"
      ]
     },
     "metadata": {},
     "output_type": "display_data"
    }
   ],
   "source": [
    "def scatterplot():\n",
    "    counter = 1\n",
    "    plt.figure(figsize=(15,15))\n",
    "    for i in num:\n",
    "        plt.subplot(4,2,counter)\n",
    "        sns.scatterplot(x=num[\"loanamount\"],y=num[i],hue=df_o[\"good_bad_flag\"])\n",
    "        counter = counter + 1\n",
    "    plt.show()\n",
    "scatterplot()"
   ]
  },
  {
   "cell_type": "markdown",
   "id": "3730dde2",
   "metadata": {},
   "source": [
    "The next thing is to explore the prescence of the outliers from the datasets ie the values which deviate from the normal distribution of the variables in the datasets"
   ]
  },
  {
   "cell_type": "code",
   "execution_count": 6,
   "id": "48839ea2",
   "metadata": {},
   "outputs": [
    {
     "ename": "NameError",
     "evalue": "name 'num' is not defined",
     "output_type": "error",
     "traceback": [
      "\u001b[1;31m---------------------------------------------------------------------------\u001b[0m",
      "\u001b[1;31mNameError\u001b[0m                                 Traceback (most recent call last)",
      "\u001b[1;32m~\\AppData\\Local\\Temp\\ipykernel_6060\\2280624605.py\u001b[0m in \u001b[0;36m<module>\u001b[1;34m\u001b[0m\n\u001b[0;32m      7\u001b[0m         \u001b[0mcounter\u001b[0m \u001b[1;33m=\u001b[0m \u001b[0mcounter\u001b[0m \u001b[1;33m+\u001b[0m \u001b[1;36m1\u001b[0m\u001b[1;33m\u001b[0m\u001b[1;33m\u001b[0m\u001b[0m\n\u001b[0;32m      8\u001b[0m     \u001b[0mplt\u001b[0m\u001b[1;33m.\u001b[0m\u001b[0mshow\u001b[0m\u001b[1;33m(\u001b[0m\u001b[1;33m)\u001b[0m\u001b[1;33m\u001b[0m\u001b[1;33m\u001b[0m\u001b[0m\n\u001b[1;32m----> 9\u001b[1;33m \u001b[0mboxplot\u001b[0m\u001b[1;33m(\u001b[0m\u001b[1;33m)\u001b[0m\u001b[1;33m\u001b[0m\u001b[1;33m\u001b[0m\u001b[0m\n\u001b[0m",
      "\u001b[1;32m~\\AppData\\Local\\Temp\\ipykernel_6060\\2280624605.py\u001b[0m in \u001b[0;36mboxplot\u001b[1;34m()\u001b[0m\n\u001b[0;32m      2\u001b[0m     \u001b[0mcounter\u001b[0m \u001b[1;33m=\u001b[0m \u001b[1;36m1\u001b[0m\u001b[1;33m\u001b[0m\u001b[1;33m\u001b[0m\u001b[0m\n\u001b[0;32m      3\u001b[0m     \u001b[0mplt\u001b[0m\u001b[1;33m.\u001b[0m\u001b[0mfigure\u001b[0m\u001b[1;33m(\u001b[0m\u001b[0mfigsize\u001b[0m\u001b[1;33m=\u001b[0m\u001b[1;33m(\u001b[0m\u001b[1;36m15\u001b[0m\u001b[1;33m,\u001b[0m\u001b[1;36m15\u001b[0m\u001b[1;33m)\u001b[0m\u001b[1;33m)\u001b[0m\u001b[1;33m\u001b[0m\u001b[1;33m\u001b[0m\u001b[0m\n\u001b[1;32m----> 4\u001b[1;33m     \u001b[1;32mfor\u001b[0m \u001b[0mi\u001b[0m \u001b[1;32min\u001b[0m \u001b[0mnum\u001b[0m\u001b[1;33m:\u001b[0m\u001b[1;33m\u001b[0m\u001b[1;33m\u001b[0m\u001b[0m\n\u001b[0m\u001b[0;32m      5\u001b[0m         \u001b[0mplt\u001b[0m\u001b[1;33m.\u001b[0m\u001b[0msubplot\u001b[0m\u001b[1;33m(\u001b[0m\u001b[1;36m4\u001b[0m\u001b[1;33m,\u001b[0m\u001b[1;36m2\u001b[0m\u001b[1;33m,\u001b[0m\u001b[0mcounter\u001b[0m\u001b[1;33m)\u001b[0m\u001b[1;33m\u001b[0m\u001b[1;33m\u001b[0m\u001b[0m\n\u001b[0;32m      6\u001b[0m         \u001b[0msns\u001b[0m\u001b[1;33m.\u001b[0m\u001b[0mboxplot\u001b[0m\u001b[1;33m(\u001b[0m\u001b[0mnum\u001b[0m\u001b[1;33m[\u001b[0m\u001b[0mi\u001b[0m\u001b[1;33m]\u001b[0m\u001b[1;33m)\u001b[0m\u001b[1;33m\u001b[0m\u001b[1;33m\u001b[0m\u001b[0m\n",
      "\u001b[1;31mNameError\u001b[0m: name 'num' is not defined"
     ]
    },
    {
     "data": {
      "text/plain": [
       "<Figure size 1080x1080 with 0 Axes>"
      ]
     },
     "metadata": {},
     "output_type": "display_data"
    }
   ],
   "source": [
    "def boxplot():\n",
    "    counter = 1\n",
    "    plt.figure(figsize=(15,15))\n",
    "    for i in num:\n",
    "        plt.subplot(4,2,counter)\n",
    "        sns.boxplot(num[i])\n",
    "        counter = counter + 1\n",
    "    plt.show()\n",
    "boxplot()"
   ]
  },
  {
   "cell_type": "markdown",
   "id": "d4135584",
   "metadata": {},
   "source": [
    "Next thing lets draw the count plot to see the distribution of attribute with refference to their samples of the numbers as observed from the patterns in datasets"
   ]
  },
  {
   "cell_type": "code",
   "execution_count": 7,
   "id": "d7b0f993",
   "metadata": {},
   "outputs": [
    {
     "ename": "NameError",
     "evalue": "name 'df_o' is not defined",
     "output_type": "error",
     "traceback": [
      "\u001b[1;31m---------------------------------------------------------------------------\u001b[0m",
      "\u001b[1;31mNameError\u001b[0m                                 Traceback (most recent call last)",
      "\u001b[1;32m~\\AppData\\Local\\Temp\\ipykernel_6060\\4109146905.py\u001b[0m in \u001b[0;36m<module>\u001b[1;34m\u001b[0m\n\u001b[0;32m      8\u001b[0m         \u001b[0mcounter\u001b[0m \u001b[1;33m=\u001b[0m \u001b[0mcounter\u001b[0m \u001b[1;33m+\u001b[0m \u001b[1;36m1\u001b[0m\u001b[1;33m\u001b[0m\u001b[1;33m\u001b[0m\u001b[0m\n\u001b[0;32m      9\u001b[0m     \u001b[0mplt\u001b[0m\u001b[1;33m.\u001b[0m\u001b[0mshow\u001b[0m\u001b[1;33m(\u001b[0m\u001b[1;33m)\u001b[0m\u001b[1;33m\u001b[0m\u001b[1;33m\u001b[0m\u001b[0m\n\u001b[1;32m---> 10\u001b[1;33m \u001b[0mcountplot\u001b[0m\u001b[1;33m(\u001b[0m\u001b[1;33m)\u001b[0m\u001b[1;33m\u001b[0m\u001b[1;33m\u001b[0m\u001b[0m\n\u001b[0m",
      "\u001b[1;32m~\\AppData\\Local\\Temp\\ipykernel_6060\\4109146905.py\u001b[0m in \u001b[0;36mcountplot\u001b[1;34m()\u001b[0m\n\u001b[0;32m      2\u001b[0m     \u001b[0mcounter\u001b[0m \u001b[1;33m=\u001b[0m \u001b[1;36m1\u001b[0m\u001b[1;33m\u001b[0m\u001b[1;33m\u001b[0m\u001b[0m\n\u001b[0;32m      3\u001b[0m     \u001b[0mplt\u001b[0m\u001b[1;33m.\u001b[0m\u001b[0mfigure\u001b[0m\u001b[1;33m(\u001b[0m\u001b[0mfigsize\u001b[0m\u001b[1;33m=\u001b[0m\u001b[1;33m(\u001b[0m\u001b[1;36m15\u001b[0m\u001b[1;33m,\u001b[0m\u001b[1;36m15\u001b[0m\u001b[1;33m)\u001b[0m\u001b[1;33m)\u001b[0m\u001b[1;33m\u001b[0m\u001b[1;33m\u001b[0m\u001b[0m\n\u001b[1;32m----> 4\u001b[1;33m     \u001b[1;32mfor\u001b[0m \u001b[0mi\u001b[0m \u001b[1;32min\u001b[0m \u001b[0mdf_o\u001b[0m\u001b[1;33m.\u001b[0m\u001b[0mcolumns\u001b[0m\u001b[1;33m:\u001b[0m\u001b[1;33m\u001b[0m\u001b[1;33m\u001b[0m\u001b[0m\n\u001b[0m\u001b[0;32m      5\u001b[0m         \u001b[0mplt\u001b[0m\u001b[1;33m.\u001b[0m\u001b[0msubplot\u001b[0m\u001b[1;33m(\u001b[0m\u001b[1;36m3\u001b[0m\u001b[1;33m,\u001b[0m\u001b[1;36m2\u001b[0m\u001b[1;33m,\u001b[0m\u001b[0mcounter\u001b[0m\u001b[1;33m)\u001b[0m\u001b[1;33m\u001b[0m\u001b[1;33m\u001b[0m\u001b[0m\n\u001b[0;32m      6\u001b[0m         \u001b[1;32mif\u001b[0m \u001b[0mdf\u001b[0m\u001b[1;33m[\u001b[0m\u001b[0mi\u001b[0m\u001b[1;33m]\u001b[0m\u001b[1;33m.\u001b[0m\u001b[0mdtypes\u001b[0m \u001b[1;33m==\u001b[0m \u001b[0mobject\u001b[0m\u001b[1;33m:\u001b[0m\u001b[1;33m\u001b[0m\u001b[1;33m\u001b[0m\u001b[0m\n",
      "\u001b[1;31mNameError\u001b[0m: name 'df_o' is not defined"
     ]
    },
    {
     "data": {
      "text/plain": [
       "<Figure size 1080x1080 with 0 Axes>"
      ]
     },
     "metadata": {},
     "output_type": "display_data"
    }
   ],
   "source": [
    "def countplot():\n",
    "    counter = 1\n",
    "    plt.figure(figsize=(15,15))\n",
    "    for i in df_o.columns:\n",
    "        plt.subplot(3,2,counter)\n",
    "        if df[i].dtypes == object:\n",
    "            sns.countplot(df[i])\n",
    "        counter = counter + 1\n",
    "    plt.show()\n",
    "countplot()"
   ]
  },
  {
   "cell_type": "markdown",
   "id": "87b4cadd",
   "metadata": {},
   "source": [
    "From the obseravtion above the target varriable is well imbalaced also to note most of the customer who approach for a loan are using the saving account as a means of saving<br>\n",
    "Most of the customer also are coming from the graduate level of education class probably and likely to be fresh graduate students seeks for opportunity to start enterpreneurship"
   ]
  },
  {
   "cell_type": "markdown",
   "id": "1a3ac826",
   "metadata": {},
   "source": [
    "## Feature Engineering and Selection"
   ]
  },
  {
   "cell_type": "markdown",
   "id": "8ea7ea4e",
   "metadata": {},
   "source": [
    "Some features such as Longitude_gps,Latitude_gps,branch_name_clients and others contain a high number of null values which could bias the prediction of the model the best option would be to drop them so far"
   ]
  },
  {
   "cell_type": "code",
   "execution_count": 8,
   "id": "0b86ff29",
   "metadata": {},
   "outputs": [
    {
     "ename": "NameError",
     "evalue": "name 'train' is not defined",
     "output_type": "error",
     "traceback": [
      "\u001b[1;31m---------------------------------------------------------------------------\u001b[0m",
      "\u001b[1;31mNameError\u001b[0m                                 Traceback (most recent call last)",
      "\u001b[1;32m~\\AppData\\Local\\Temp\\ipykernel_6060\\1759734601.py\u001b[0m in \u001b[0;36m<module>\u001b[1;34m\u001b[0m\n\u001b[0;32m      1\u001b[0m \u001b[0mcol\u001b[0m \u001b[1;33m=\u001b[0m \u001b[1;33m[\u001b[0m\u001b[1;34m\"closeddate\"\u001b[0m\u001b[1;33m,\u001b[0m\u001b[1;34m\"latitude_gps\"\u001b[0m\u001b[1;33m,\u001b[0m\u001b[1;34m\"longitude_gps\"\u001b[0m\u001b[1;33m,\u001b[0m\u001b[1;34m\"firstduedate\"\u001b[0m\u001b[1;33m,\u001b[0m\u001b[1;34m\"firstrepaiddate\"\u001b[0m\u001b[1;33m,\u001b[0m\u001b[1;34m\"bank_branch_clients\"\u001b[0m\u001b[1;33m,\u001b[0m\u001b[1;34m\"level_of_education_clients\"\u001b[0m\u001b[1;33m,\u001b[0m\u001b[1;34m\"referredby\"\u001b[0m\u001b[1;33m]\u001b[0m\u001b[1;33m\u001b[0m\u001b[1;33m\u001b[0m\u001b[0m\n\u001b[1;32m----> 2\u001b[1;33m \u001b[0mtrain\u001b[0m\u001b[1;33m[\u001b[0m\u001b[1;34m\"birthdate\"\u001b[0m\u001b[1;33m]\u001b[0m \u001b[1;33m=\u001b[0m \u001b[0mtrain\u001b[0m\u001b[1;33m[\u001b[0m\u001b[1;34m\"birthdate\"\u001b[0m\u001b[1;33m]\u001b[0m\u001b[1;33m.\u001b[0m\u001b[0mfillna\u001b[0m\u001b[1;33m(\u001b[0m\u001b[0mmethod\u001b[0m\u001b[1;33m=\u001b[0m\u001b[1;34m\"ffill\"\u001b[0m\u001b[1;33m)\u001b[0m\u001b[1;33m\u001b[0m\u001b[1;33m\u001b[0m\u001b[0m\n\u001b[0m\u001b[0;32m      3\u001b[0m \u001b[0mtest\u001b[0m\u001b[1;33m[\u001b[0m\u001b[1;34m\"birthdate\"\u001b[0m\u001b[1;33m]\u001b[0m \u001b[1;33m=\u001b[0m \u001b[0mtest\u001b[0m\u001b[1;33m[\u001b[0m\u001b[1;34m\"birthdate\"\u001b[0m\u001b[1;33m]\u001b[0m\u001b[1;33m.\u001b[0m\u001b[0mfillna\u001b[0m\u001b[1;33m(\u001b[0m\u001b[0mmethod\u001b[0m\u001b[1;33m=\u001b[0m\u001b[1;34m\"ffill\"\u001b[0m\u001b[1;33m)\u001b[0m\u001b[1;33m\u001b[0m\u001b[1;33m\u001b[0m\u001b[0m\n\u001b[0;32m      4\u001b[0m \u001b[0mtest\u001b[0m\u001b[1;33m[\u001b[0m\u001b[1;34m\"birthdate\"\u001b[0m\u001b[1;33m]\u001b[0m \u001b[1;33m=\u001b[0m \u001b[0mtest\u001b[0m\u001b[1;33m[\u001b[0m\u001b[1;34m\"birthdate\"\u001b[0m\u001b[1;33m]\u001b[0m\u001b[1;33m.\u001b[0m\u001b[0mfillna\u001b[0m\u001b[1;33m(\u001b[0m\u001b[0mmethod\u001b[0m\u001b[1;33m=\u001b[0m\u001b[1;34m\"bfill\"\u001b[0m\u001b[1;33m)\u001b[0m\u001b[1;33m\u001b[0m\u001b[1;33m\u001b[0m\u001b[0m\n\u001b[0;32m      5\u001b[0m \u001b[0mtrain\u001b[0m \u001b[1;33m=\u001b[0m \u001b[0mtrain\u001b[0m\u001b[1;33m.\u001b[0m\u001b[0mfillna\u001b[0m\u001b[1;33m(\u001b[0m\u001b[1;34m\"null\"\u001b[0m\u001b[1;33m)\u001b[0m\u001b[1;33m\u001b[0m\u001b[1;33m\u001b[0m\u001b[0m\n",
      "\u001b[1;31mNameError\u001b[0m: name 'train' is not defined"
     ]
    }
   ],
   "source": [
    "col = [\"closeddate\",\"latitude_gps\",\"longitude_gps\",\"firstduedate\",\"firstrepaiddate\",\"bank_branch_clients\",\"level_of_education_clients\",\"referredby\"]\n",
    "train[\"birthdate\"] = train[\"birthdate\"].fillna(method=\"ffill\")\n",
    "test[\"birthdate\"] = test[\"birthdate\"].fillna(method=\"ffill\")\n",
    "test[\"birthdate\"] = test[\"birthdate\"].fillna(method=\"bfill\")\n",
    "train = train.fillna(\"null\")\n",
    "train = train.drop(col,axis=1)\n",
    "test = test.drop(col,axis=1)"
   ]
  },
  {
   "cell_type": "markdown",
   "id": "2e1ff121",
   "metadata": {},
   "source": [
    "Lets derive <b>age</b> from the birthdate as an important feature that can help to maximize and optimize the perfomance of the model under training as follows"
   ]
  },
  {
   "cell_type": "code",
   "execution_count": 9,
   "id": "07f0c6c4",
   "metadata": {},
   "outputs": [
    {
     "ename": "NameError",
     "evalue": "name 'train' is not defined",
     "output_type": "error",
     "traceback": [
      "\u001b[1;31m---------------------------------------------------------------------------\u001b[0m",
      "\u001b[1;31mNameError\u001b[0m                                 Traceback (most recent call last)",
      "\u001b[1;32m~\\AppData\\Local\\Temp\\ipykernel_6060\\949957828.py\u001b[0m in \u001b[0;36m<module>\u001b[1;34m\u001b[0m\n\u001b[1;32m----> 1\u001b[1;33m \u001b[0mtrain\u001b[0m\u001b[1;33m[\u001b[0m\u001b[1;34m\"birthdate\"\u001b[0m\u001b[1;33m]\u001b[0m \u001b[1;33m=\u001b[0m \u001b[0mpd\u001b[0m\u001b[1;33m.\u001b[0m\u001b[0mto_datetime\u001b[0m\u001b[1;33m(\u001b[0m\u001b[0mtrain\u001b[0m\u001b[1;33m[\u001b[0m\u001b[1;34m\"birthdate\"\u001b[0m\u001b[1;33m]\u001b[0m\u001b[1;33m)\u001b[0m\u001b[1;33m\u001b[0m\u001b[1;33m\u001b[0m\u001b[0m\n\u001b[0m\u001b[0;32m      2\u001b[0m \u001b[0mtrain\u001b[0m\u001b[1;33m[\u001b[0m\u001b[1;34m\"age\"\u001b[0m\u001b[1;33m]\u001b[0m \u001b[1;33m=\u001b[0m \u001b[1;36m2022\u001b[0m \u001b[1;33m-\u001b[0m \u001b[0mtrain\u001b[0m\u001b[1;33m[\u001b[0m\u001b[1;34m\"birthdate\"\u001b[0m\u001b[1;33m]\u001b[0m\u001b[1;33m.\u001b[0m\u001b[0mdt\u001b[0m\u001b[1;33m.\u001b[0m\u001b[0myear\u001b[0m\u001b[1;33m\u001b[0m\u001b[1;33m\u001b[0m\u001b[0m\n\u001b[0;32m      3\u001b[0m \u001b[0mtrain\u001b[0m \u001b[1;33m=\u001b[0m \u001b[0mtrain\u001b[0m\u001b[1;33m.\u001b[0m\u001b[0mdrop\u001b[0m\u001b[1;33m(\u001b[0m\u001b[1;34m\"birthdate\"\u001b[0m\u001b[1;33m,\u001b[0m\u001b[0maxis\u001b[0m\u001b[1;33m=\u001b[0m\u001b[1;36m1\u001b[0m\u001b[1;33m)\u001b[0m\u001b[1;33m\u001b[0m\u001b[1;33m\u001b[0m\u001b[0m\n\u001b[0;32m      4\u001b[0m \u001b[0mtest\u001b[0m\u001b[1;33m[\u001b[0m\u001b[1;34m\"birthdate\"\u001b[0m\u001b[1;33m]\u001b[0m \u001b[1;33m=\u001b[0m \u001b[0mpd\u001b[0m\u001b[1;33m.\u001b[0m\u001b[0mto_datetime\u001b[0m\u001b[1;33m(\u001b[0m\u001b[0mtest\u001b[0m\u001b[1;33m[\u001b[0m\u001b[1;34m\"birthdate\"\u001b[0m\u001b[1;33m]\u001b[0m\u001b[1;33m)\u001b[0m\u001b[1;33m\u001b[0m\u001b[1;33m\u001b[0m\u001b[0m\n\u001b[0;32m      5\u001b[0m \u001b[0mtest\u001b[0m\u001b[1;33m[\u001b[0m\u001b[1;34m\"age\"\u001b[0m\u001b[1;33m]\u001b[0m \u001b[1;33m=\u001b[0m \u001b[1;36m2022\u001b[0m \u001b[1;33m-\u001b[0m \u001b[0mtest\u001b[0m\u001b[1;33m[\u001b[0m\u001b[1;34m\"birthdate\"\u001b[0m\u001b[1;33m]\u001b[0m\u001b[1;33m.\u001b[0m\u001b[0mdt\u001b[0m\u001b[1;33m.\u001b[0m\u001b[0myear\u001b[0m\u001b[1;33m\u001b[0m\u001b[1;33m\u001b[0m\u001b[0m\n",
      "\u001b[1;31mNameError\u001b[0m: name 'train' is not defined"
     ]
    }
   ],
   "source": [
    "train[\"birthdate\"] = pd.to_datetime(train[\"birthdate\"])\n",
    "train[\"age\"] = 2022 - train[\"birthdate\"].dt.year\n",
    "train = train.drop(\"birthdate\",axis=1)\n",
    "test[\"birthdate\"] = pd.to_datetime(test[\"birthdate\"])\n",
    "test[\"age\"] = 2022 - test[\"birthdate\"].dt.year\n",
    "test = test.drop(\"birthdate\",axis=1)"
   ]
  },
  {
   "cell_type": "markdown",
   "id": "f425bca2",
   "metadata": {},
   "source": [
    "Dealing with the missing values in the categorical sets of data for both train and test set patterns of datasets"
   ]
  },
  {
   "cell_type": "code",
   "execution_count": 10,
   "id": "37d765c2",
   "metadata": {},
   "outputs": [
    {
     "ename": "NameError",
     "evalue": "name 'test' is not defined",
     "output_type": "error",
     "traceback": [
      "\u001b[1;31m---------------------------------------------------------------------------\u001b[0m",
      "\u001b[1;31mNameError\u001b[0m                                 Traceback (most recent call last)",
      "\u001b[1;32m~\\AppData\\Local\\Temp\\ipykernel_6060\\997774986.py\u001b[0m in \u001b[0;36m<module>\u001b[1;34m\u001b[0m\n\u001b[1;32m----> 1\u001b[1;33m \u001b[1;32mfor\u001b[0m \u001b[0mi\u001b[0m \u001b[1;32min\u001b[0m \u001b[0mtest\u001b[0m\u001b[1;33m:\u001b[0m\u001b[1;33m\u001b[0m\u001b[1;33m\u001b[0m\u001b[0m\n\u001b[0m\u001b[0;32m      2\u001b[0m     \u001b[1;32mif\u001b[0m \u001b[0mtest\u001b[0m\u001b[1;33m[\u001b[0m\u001b[0mi\u001b[0m\u001b[1;33m]\u001b[0m\u001b[1;33m.\u001b[0m\u001b[0mdtypes\u001b[0m \u001b[1;33m==\u001b[0m \u001b[0mobject\u001b[0m\u001b[1;33m:\u001b[0m\u001b[1;33m\u001b[0m\u001b[1;33m\u001b[0m\u001b[0m\n\u001b[0;32m      3\u001b[0m         \u001b[0mtest\u001b[0m\u001b[1;33m[\u001b[0m\u001b[0mi\u001b[0m\u001b[1;33m]\u001b[0m \u001b[1;33m=\u001b[0m \u001b[0mtest\u001b[0m\u001b[1;33m[\u001b[0m\u001b[0mi\u001b[0m\u001b[1;33m]\u001b[0m\u001b[1;33m.\u001b[0m\u001b[0mfillna\u001b[0m\u001b[1;33m(\u001b[0m\u001b[1;34m\"null\"\u001b[0m\u001b[1;33m)\u001b[0m\u001b[1;33m\u001b[0m\u001b[1;33m\u001b[0m\u001b[0m\n\u001b[0;32m      4\u001b[0m \u001b[1;32mfor\u001b[0m \u001b[0mi\u001b[0m \u001b[1;32min\u001b[0m \u001b[0mtrain\u001b[0m\u001b[1;33m:\u001b[0m\u001b[1;33m\u001b[0m\u001b[1;33m\u001b[0m\u001b[0m\n\u001b[0;32m      5\u001b[0m     \u001b[1;32mif\u001b[0m \u001b[0mtrain\u001b[0m\u001b[1;33m[\u001b[0m\u001b[0mi\u001b[0m\u001b[1;33m]\u001b[0m\u001b[1;33m.\u001b[0m\u001b[0mdtypes\u001b[0m \u001b[1;33m==\u001b[0m \u001b[0mobject\u001b[0m\u001b[1;33m:\u001b[0m\u001b[1;33m\u001b[0m\u001b[1;33m\u001b[0m\u001b[0m\n",
      "\u001b[1;31mNameError\u001b[0m: name 'test' is not defined"
     ]
    }
   ],
   "source": [
    "for i in test:\n",
    "    if test[i].dtypes == object:\n",
    "        test[i] = test[i].fillna(\"null\")\n",
    "for i in train:\n",
    "    if train[i].dtypes == object:\n",
    "        train[i] = train[i].fillna(train[i].mode()[0])"
   ]
  },
  {
   "cell_type": "markdown",
   "id": "3374c389",
   "metadata": {},
   "source": [
    "Droping of the approved date,creationdate as they dont match the coresponding item value with the test set to test sets consist of hours only compared to train which has both"
   ]
  },
  {
   "cell_type": "code",
   "execution_count": 11,
   "id": "f4686ba6",
   "metadata": {},
   "outputs": [
    {
     "ename": "NameError",
     "evalue": "name 'train' is not defined",
     "output_type": "error",
     "traceback": [
      "\u001b[1;31m---------------------------------------------------------------------------\u001b[0m",
      "\u001b[1;31mNameError\u001b[0m                                 Traceback (most recent call last)",
      "\u001b[1;32m~\\AppData\\Local\\Temp\\ipykernel_6060\\863588930.py\u001b[0m in \u001b[0;36m<module>\u001b[1;34m\u001b[0m\n\u001b[1;32m----> 1\u001b[1;33m \u001b[0mtrain\u001b[0m \u001b[1;33m=\u001b[0m \u001b[0mtrain\u001b[0m\u001b[1;33m.\u001b[0m\u001b[0mdrop\u001b[0m\u001b[1;33m(\u001b[0m\u001b[1;33m[\u001b[0m\u001b[1;34m\"approveddate\"\u001b[0m\u001b[1;33m,\u001b[0m\u001b[1;34m\"creationdate\"\u001b[0m\u001b[1;33m,\u001b[0m\u001b[1;34m\"customerid\"\u001b[0m\u001b[1;33m]\u001b[0m\u001b[1;33m,\u001b[0m\u001b[0maxis\u001b[0m\u001b[1;33m=\u001b[0m\u001b[1;36m1\u001b[0m\u001b[1;33m)\u001b[0m\u001b[1;33m\u001b[0m\u001b[1;33m\u001b[0m\u001b[0m\n\u001b[0m\u001b[0;32m      2\u001b[0m \u001b[0mtest\u001b[0m \u001b[1;33m=\u001b[0m \u001b[0mtest\u001b[0m\u001b[1;33m.\u001b[0m\u001b[0mdrop\u001b[0m\u001b[1;33m(\u001b[0m\u001b[1;33m[\u001b[0m\u001b[1;34m\"approveddate\"\u001b[0m\u001b[1;33m,\u001b[0m\u001b[1;34m\"creationdate\"\u001b[0m\u001b[1;33m,\u001b[0m\u001b[1;34m\"customerid\"\u001b[0m\u001b[1;33m]\u001b[0m\u001b[1;33m,\u001b[0m\u001b[0maxis\u001b[0m\u001b[1;33m=\u001b[0m\u001b[1;36m1\u001b[0m\u001b[1;33m)\u001b[0m\u001b[1;33m\u001b[0m\u001b[1;33m\u001b[0m\u001b[0m\n",
      "\u001b[1;31mNameError\u001b[0m: name 'train' is not defined"
     ]
    }
   ],
   "source": [
    "train = train.drop([\"approveddate\",\"creationdate\",\"customerid\"],axis=1) \n",
    "test = test.drop([\"approveddate\",\"creationdate\",\"customerid\"],axis=1) "
   ]
  },
  {
   "cell_type": "markdown",
   "id": "bfac0adc",
   "metadata": {},
   "source": [
    "<b>Encoding of the categorical variables</b> from the datasets to their respactive numerical values from the sets on the data"
   ]
  },
  {
   "cell_type": "code",
   "execution_count": 156,
   "id": "59178519",
   "metadata": {},
   "outputs": [],
   "source": [
    "from sklearn.preprocessing import LabelEncoder\n",
    "le = LabelEncoder()\n",
    "for i in train:\n",
    "    if train[i].dtypes == object:\n",
    "        train[i] = le.fit_transform(train[i])\n",
    "for i in test:\n",
    "    if test[i].dtypes == object:\n",
    "        test[i] = le.fit_transform(test[i])"
   ]
  },
  {
   "cell_type": "markdown",
   "id": "82b879b9",
   "metadata": {},
   "source": [
    "<b>Scalling of the variables</b> to obtain the standardized variable points between various data points in the datasets"
   ]
  },
  {
   "cell_type": "code",
   "execution_count": 157,
   "id": "98fa4a66",
   "metadata": {},
   "outputs": [],
   "source": [
    "from sklearn.preprocessing import MinMaxScaler,StandardScaler\n",
    "X = train.drop(\"good_bad_flag\",axis=1)\n",
    "y = train[\"good_bad_flag\"]\n",
    "def handle_encode(df):\n",
    "    scaler_m,scaler_s = MinMaxScaler(),StandardScaler()\n",
    "    df = pd.DataFrame(scaler_s.fit_transform(df),columns=df.columns)\n",
    "    return df\n",
    "X,test = handle_encode(X),handle_encode(test)"
   ]
  },
  {
   "cell_type": "markdown",
   "id": "b26e588a",
   "metadata": {},
   "source": [
    "## Model Selection and Optimization"
   ]
  },
  {
   "cell_type": "code",
   "execution_count": 158,
   "id": "b5f69fa3",
   "metadata": {},
   "outputs": [
    {
     "data": {
      "text/plain": [
       "LGBMClassifier(max_depth=2, n_estimators=230, num_leaves=20, random_state=43)"
      ]
     },
     "execution_count": 158,
     "metadata": {},
     "output_type": "execute_result"
    }
   ],
   "source": [
    "from sklearn.model_selection import cross_val_score,StratifiedKFold\n",
    "from sklearn.model_selection import GridSearchCV\n",
    "from lightgbm import LGBMClassifier\n",
    "sk = StratifiedKFold(n_splits=5)\n",
    "lgb = LGBMClassifier(\n",
    "    n_estimators=230,\n",
    "    num_leaves=20,\n",
    "    max_depth=2,\n",
    "    random_state=43,\n",
    "    min_child_samples=20\n",
    ")\n",
    "cvs = cross_val_score(estimator=lgb,X=X,y=y,cv=sk).mean()#cross validation on estimator\n",
    "lgb.fit(X,y)"
   ]
  },
  {
   "cell_type": "markdown",
   "id": "eaef655e",
   "metadata": {},
   "source": [
    "Making the prediction for the estimator"
   ]
  },
  {
   "cell_type": "code",
   "execution_count": 159,
   "id": "b51317df",
   "metadata": {},
   "outputs": [],
   "source": [
    "predict = lgb.predict(test)\n",
    "subm = {\"ID\":ID,\"Good_Bad_flag\":predict}\n",
    "subm = pd.DataFrame(subm)\n",
    "subm.to_csv(\"combined.csv\",index=False)"
   ]
  },
  {
   "cell_type": "code",
   "execution_count": null,
   "id": "1c0e74b9",
   "metadata": {},
   "outputs": [],
   "source": []
  }
 ],
 "metadata": {
  "kernelspec": {
   "display_name": "Python 3 (ipykernel)",
   "language": "python",
   "name": "python3"
  },
  "language_info": {
   "codemirror_mode": {
    "name": "ipython",
    "version": 3
   },
   "file_extension": ".py",
   "mimetype": "text/x-python",
   "name": "python",
   "nbconvert_exporter": "python",
   "pygments_lexer": "ipython3",
   "version": "3.8.12"
  }
 },
 "nbformat": 4,
 "nbformat_minor": 5
}
